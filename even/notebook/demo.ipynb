{
 "cells": [
  {
   "cell_type": "code",
   "execution_count": 30,
   "metadata": {},
   "outputs": [
    {
     "name": "stdout",
     "output_type": "stream",
     "text": [
      "tensor([[False, False, False],\n",
      "        [ True, False,  True]])\n"
     ]
    }
   ],
   "source": [
    "import torch\n",
    "# 不带out参数类型\n",
    "a = torch.tensor([[True, False, True], [True, False, True]])\n",
    "b = torch.tensor([[False, False, False], [True, False, True]])\n",
    "print(torch.logical_and(a, b))"
   ]
  },
  {
   "cell_type": "code",
   "execution_count": 31,
   "metadata": {},
   "outputs": [
    {
     "name": "stdout",
     "output_type": "stream",
     "text": [
      "tensor([[1, 2, 3],\n",
      "        [4, 5, 6]])\n"
     ]
    }
   ],
   "source": [
    "x = torch.tensor([[1,2,3], [4, 5, 6]])\n",
    "print(x)"
   ]
  },
  {
   "cell_type": "code",
   "execution_count": 32,
   "metadata": {},
   "outputs": [
    {
     "name": "stdout",
     "output_type": "stream",
     "text": [
      "tensor([4, 6])\n"
     ]
    }
   ],
   "source": [
    "k = torch.logical_and(a, b)\n",
    "x = x[k]\n",
    "print(x)"
   ]
  },
  {
   "cell_type": "code",
   "execution_count": 33,
   "metadata": {},
   "outputs": [
    {
     "name": "stdout",
     "output_type": "stream",
     "text": [
      "tensor([[False, False, False],\n",
      "        [ True, False,  True]])\n"
     ]
    }
   ],
   "source": [
    "k1 = k.bool()\n",
    "print(k1)"
   ]
  },
  {
   "cell_type": "code",
   "execution_count": 34,
   "metadata": {},
   "outputs": [
    {
     "name": "stdout",
     "output_type": "stream",
     "text": [
      "tensor([True, True])\n"
     ]
    }
   ],
   "source": [
    "x1 = x.bool()\n",
    "print(x1)"
   ]
  },
  {
   "cell_type": "code",
   "execution_count": 36,
   "metadata": {},
   "outputs": [
    {
     "ename": "RuntimeError",
     "evalue": "stack expects each tensor to be equal size, but got [3, 3] at entry 0 and [2, 3] at entry 1",
     "output_type": "error",
     "traceback": [
      "\u001b[0;31m---------------------------------------------------------------------------\u001b[0m",
      "\u001b[0;31mRuntimeError\u001b[0m                              Traceback (most recent call last)",
      "Cell \u001b[0;32mIn[36], line 8\u001b[0m\n\u001b[1;32m      4\u001b[0m  \u001b[38;5;66;03m# 假设是时间步T2\u001b[39;00m\n\u001b[1;32m      5\u001b[0m T2 \u001b[38;5;241m=\u001b[39m torch\u001b[38;5;241m.\u001b[39mtensor([[\u001b[38;5;241m10\u001b[39m, \u001b[38;5;241m20\u001b[39m, \u001b[38;5;241m30\u001b[39m],\n\u001b[1;32m      6\u001b[0m                  [\u001b[38;5;241m40\u001b[39m, \u001b[38;5;241m50\u001b[39m, \u001b[38;5;241m60\u001b[39m]])\n\u001b[0;32m----> 8\u001b[0m \u001b[38;5;28mprint\u001b[39m(\u001b[43mtorch\u001b[49m\u001b[38;5;241;43m.\u001b[39;49m\u001b[43mstack\u001b[49m\u001b[43m(\u001b[49m\u001b[43m(\u001b[49m\u001b[43mT1\u001b[49m\u001b[43m,\u001b[49m\u001b[43mT2\u001b[49m\u001b[43m)\u001b[49m\u001b[43m)\u001b[49m\u001b[38;5;241m.\u001b[39mshape)\n",
      "\u001b[0;31mRuntimeError\u001b[0m: stack expects each tensor to be equal size, but got [3, 3] at entry 0 and [2, 3] at entry 1"
     ]
    }
   ],
   "source": [
    "T1 = torch.tensor([[1, 2, 3],\n",
    "                 [4, 5, 6],\n",
    "                 [7, 8, 9]])\n",
    " # 假设是时间步T2\n",
    "T2 = torch.tensor([[10, 20, 30],\n",
    "                 [40, 50, 60]])\n",
    "\n",
    "print(torch.stack((T1,T2)).shape)"
   ]
  },
  {
   "cell_type": "code",
   "execution_count": 40,
   "metadata": {},
   "outputs": [
    {
     "name": "stdout",
     "output_type": "stream",
     "text": [
      "111\n",
      "0213\n",
      "\n",
      "\n",
      "\n",
      "01  140504047878528140504047577280\n",
      "\n",
      "01  140504047878528140504047577280\n",
      "\n",
      "01  140504047878528140504047577280\n",
      "\n",
      "01  140504047577280140504047878528\n",
      "\n",
      "10  140504047577280140504047878528\n",
      "\n",
      "10  140504047577280140504047878528\n",
      "\n",
      "10  140504047577280140504047878528\n",
      "\n",
      "10  140504047577280140504047878528\n",
      "\n",
      "10  140504047577280140504047878528\n",
      "\n",
      "10  140504047577280140504047878528\n",
      "\n",
      "10  140504047577280140504047878528\n",
      "\n",
      "10  140504047577280140504047878528\n",
      "\n",
      "10  140504047878528140504047577280\n",
      "\n",
      "10  140504047577280140504047878528\n",
      "\n",
      "1 0140504047577280 \n",
      "1405040478785281 \n",
      "1405040475772800\n",
      " 1140504047878528 \n",
      "1405040475772800\n",
      " 1140504047878528 \n",
      "1405040475772800\n",
      " 1140504047878528 \n",
      "140504047577280\n",
      "01  140504047878528140504047577280\n",
      "\n",
      "0 140504047878528\n",
      "0 torch.Size([20, 1])\n",
      "1 torch.Size([20, 1])\n"
     ]
    }
   ],
   "source": [
    "import torch\n",
    "import numpy as np\n",
    " \n",
    "class Dataset(torch.utils.data.Dataset):\n",
    "    def __init__(self):\n",
    "        self.data = [i for i in range(40)]\n",
    "        print(111)\n",
    " \n",
    "    def __len__(self):\n",
    "        return len(self.data)\n",
    " \n",
    "    def __getitem__(self, idx):\n",
    "        print(self.worker_id, id(self.data))\n",
    "        tensor = torch.FloatTensor([self.data[idx]])\n",
    "        return tensor\n",
    " \n",
    "    def worker_init_fn(self, worker_id):\n",
    "        print(worker_id)\n",
    "        self.worker_id = worker_id\n",
    "        self.data = [i for i in range(40)]\n",
    " \n",
    "if __name__ == '__main__':\n",
    "    dataset = Dataset()\n",
    "    dataloader = torch.utils.data.DataLoader(\n",
    "            dataset=dataset,\n",
    "            shuffle=True,\n",
    "            batch_size=20,\n",
    "            num_workers=4,\n",
    "            worker_init_fn=dataset.worker_init_fn)\n",
    " \n",
    "    for idx, d in enumerate(dataloader):\n",
    "        print(idx, d.shape)"
   ]
  }
 ],
 "metadata": {
  "kernelspec": {
   "display_name": "pytorch",
   "language": "python",
   "name": "python3"
  },
  "language_info": {
   "codemirror_mode": {
    "name": "ipython",
    "version": 3
   },
   "file_extension": ".py",
   "mimetype": "text/x-python",
   "name": "python",
   "nbconvert_exporter": "python",
   "pygments_lexer": "ipython3",
   "version": "3.8.19"
  }
 },
 "nbformat": 4,
 "nbformat_minor": 2
}
